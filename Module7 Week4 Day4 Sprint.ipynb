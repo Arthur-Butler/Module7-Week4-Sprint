{
 "cells": [
  {
   "cell_type": "code",
   "execution_count": null,
   "metadata": {},
   "outputs": [],
   "source": [
    "#importing cv2 to to detect faces\n",
    "import cv2\n",
    "\n",
    "#initialising a cv2 module function to be called later\n",
    "facial_cascade=cv2.CascadeClassifier(cv2.data.haarcascades + \"haarcascade_frontalface_default.xml\")\n",
    "\n",
    "#face detector finction\n",
    "def FaceDetector():\n",
    "    #web cam initialisation\n",
    "    vid=cv2.VideoCapture(0)\n",
    "    while True:\n",
    "        #video footage initialsation\n",
    "         ret, img = vid.read(0)\n",
    "        #using the cv2 function to find the face\n",
    "         faces=facial_cascade.detectMultiScale(img, 1.3, 5)\n",
    "        #constructing a rectangle around it\n",
    "         for x,y,w,h in faces:\n",
    "             cv2.rectangle(img, (x,y),(x+w,y+h),(255,0,0),2)\n",
    "        #Displaying the window\n",
    "         cv2.imshow(\"Legend\",img)\n",
    "         k=cv2.waitKey(30) & 0xff\n",
    "         if k==27:\n",
    "             break\n",
    "    cap.release()\n",
    "    cv2.destroyAllWindows()\n",
    "#Calling the face detctor function\n",
    "FaceDetector()"
   ]
  }
 ],
 "metadata": {
  "kernelspec": {
   "display_name": "Python 3",
   "language": "python",
   "name": "python3"
  },
  "language_info": {
   "codemirror_mode": {
    "name": "ipython",
    "version": 3
   },
   "file_extension": ".py",
   "mimetype": "text/x-python",
   "name": "python",
   "nbconvert_exporter": "python",
   "pygments_lexer": "ipython3",
   "version": "3.7.6"
  }
 },
 "nbformat": 4,
 "nbformat_minor": 4
}
